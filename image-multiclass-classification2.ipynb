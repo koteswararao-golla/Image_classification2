{
 "cells": [
  {
   "cell_type": "code",
   "execution_count": 1,
   "id": "79d44ca2",
   "metadata": {
    "_cell_guid": "b1076dfc-b9ad-4769-8c92-a6c4dae69d19",
    "_uuid": "8f2839f25d086af736a60e9eeb907d3b93b6e0e5",
    "execution": {
     "iopub.execute_input": "2021-09-07T15:11:15.954336Z",
     "iopub.status.busy": "2021-09-07T15:11:15.952679Z",
     "iopub.status.idle": "2021-09-07T15:11:20.347125Z",
     "shell.execute_reply": "2021-09-07T15:11:20.346119Z",
     "shell.execute_reply.started": "2021-09-07T12:18:20.256752Z"
    },
    "papermill": {
     "duration": 4.4087,
     "end_time": "2021-09-07T15:11:20.347318",
     "exception": false,
     "start_time": "2021-09-07T15:11:15.938618",
     "status": "completed"
    },
    "tags": []
   },
   "outputs": [],
   "source": [
    "# Import packages\n",
    "import sys\n",
    "import os\n",
    "from keras.preprocessing.image import ImageDataGenerator\n",
    "from keras import optimizers\n",
    "from keras.models import Sequential\n",
    "from keras.layers import Conv2D,MaxPooling2D,Convolution2D,Activation,Flatten,Dense,Dropout,MaxPool2D,BatchNormalization\n",
    "from keras import callbacks\n",
    "import time\n",
    "import numpy as np\n",
    "import tensorflow.keras\n",
    "from tensorflow.keras.models import Sequential, Model\n",
    "from tensorflow.keras.layers import  Dropout, Input\n",
    "from tensorflow.keras.layers import Dense, Flatten\n",
    "from tensorflow.keras.optimizers import Adam\n",
    "from tensorflow.keras.metrics import categorical_crossentropy\n",
    "\n",
    "import matplotlib.pyplot as plt\n",
    "import matplotlib.image as mpimg\n",
    "import random\n",
    "%matplotlib inline\n",
    "start = time.time()"
   ]
  },
  {
   "cell_type": "code",
   "execution_count": 2,
   "id": "dc5e4551",
   "metadata": {
    "execution": {
     "iopub.execute_input": "2021-09-07T15:11:20.369438Z",
     "iopub.status.busy": "2021-09-07T15:11:20.368888Z",
     "iopub.status.idle": "2021-09-07T15:11:20.892830Z",
     "shell.execute_reply": "2021-09-07T15:11:20.893559Z",
     "shell.execute_reply.started": "2021-09-07T12:58:04.823176Z"
    },
    "papermill": {
     "duration": 0.538209,
     "end_time": "2021-09-07T15:11:20.893715",
     "exception": false,
     "start_time": "2021-09-07T15:11:20.355506",
     "status": "completed"
    },
    "tags": []
   },
   "outputs": [
    {
     "name": "stdout",
     "output_type": "stream",
     "text": [
      "Found 1440 images belonging to 6 classes.\n",
      "Found 480 images belonging to 6 classes.\n",
      "Found 480 images belonging to 1 classes.\n"
     ]
    }
   ],
   "source": [
    "#Import image dataset to kaggle notebook\n",
    "train_path = '../input/images/Training'\n",
    "valid_path = '../input/images/Validation'\n",
    "test_path = '../input/images/' \n",
    "#Data augmentation is a strategy used to increase the amount of data by using techniques like cropping, padding, flipping, etc..\n",
    "#ImageDataGenerator generates batches of tensor image data with real-time data augmentation\n",
    "\n",
    "train_data = ImageDataGenerator(rescale=1/255.,rotation_range=20,width_shift_range=0.2,\n",
    "                                             height_shift_range=0.2,zoom_range=0.2,\n",
    "                                             horizontal_flip=True).flow_from_directory(train_path, target_size=(224,224), \n",
    "                                                         class_mode='categorical',seed =42)\n",
    "valid_data = ImageDataGenerator(rescale=1./ 255).flow_from_directory(valid_path, target_size=(224,224), \n",
    "                                                          class_mode='categorical',seed =42)\n",
    "test_data = ImageDataGenerator(rescale=1./ 255).flow_from_directory(test_path, target_size=(224,224),classes=['Testing'],seed=42)"
   ]
  },
  {
   "cell_type": "code",
   "execution_count": 3,
   "id": "f36e181a",
   "metadata": {
    "execution": {
     "iopub.execute_input": "2021-09-07T15:11:20.920075Z",
     "iopub.status.busy": "2021-09-07T15:11:20.919573Z",
     "iopub.status.idle": "2021-09-07T15:17:36.726962Z",
     "shell.execute_reply": "2021-09-07T15:17:36.727623Z",
     "shell.execute_reply.started": "2021-09-07T12:18:44.33032Z"
    },
    "papermill": {
     "duration": 375.825665,
     "end_time": "2021-09-07T15:17:36.727834",
     "exception": false,
     "start_time": "2021-09-07T15:11:20.902169",
     "status": "completed"
    },
    "tags": []
   },
   "outputs": [
    {
     "name": "stdout",
     "output_type": "stream",
     "text": [
      "Epoch 1/10\n",
      "45/45 [==============================] - 55s 1s/step - loss: 2.6376 - accuracy: 0.1822 - val_loss: 1.7914 - val_accuracy: 0.1854\n",
      "Epoch 2/10\n",
      "45/45 [==============================] - 34s 771ms/step - loss: 2.0056 - accuracy: 0.2402 - val_loss: 1.8334 - val_accuracy: 0.1604\n",
      "Epoch 3/10\n",
      "45/45 [==============================] - 35s 784ms/step - loss: 1.8917 - accuracy: 0.2526 - val_loss: 1.8641 - val_accuracy: 0.1708\n",
      "Epoch 4/10\n",
      "45/45 [==============================] - 35s 779ms/step - loss: 1.7822 - accuracy: 0.2820 - val_loss: 1.9148 - val_accuracy: 0.1667\n",
      "Epoch 5/10\n",
      "45/45 [==============================] - 35s 784ms/step - loss: 1.7483 - accuracy: 0.2896 - val_loss: 1.8906 - val_accuracy: 0.1646\n",
      "Epoch 6/10\n",
      "45/45 [==============================] - 35s 785ms/step - loss: 1.6905 - accuracy: 0.3166 - val_loss: 1.8491 - val_accuracy: 0.1771\n",
      "Epoch 7/10\n",
      "45/45 [==============================] - 35s 791ms/step - loss: 1.6353 - accuracy: 0.3449 - val_loss: 1.7959 - val_accuracy: 0.2250\n",
      "Epoch 8/10\n",
      "45/45 [==============================] - 35s 791ms/step - loss: 1.6469 - accuracy: 0.3506 - val_loss: 1.8877 - val_accuracy: 0.2146\n",
      "Epoch 9/10\n",
      "45/45 [==============================] - 36s 814ms/step - loss: 1.5955 - accuracy: 0.3583 - val_loss: 1.7206 - val_accuracy: 0.2562\n",
      "Epoch 10/10\n",
      "45/45 [==============================] - 35s 789ms/step - loss: 1.6208 - accuracy: 0.3601 - val_loss: 1.6485 - val_accuracy: 0.3229\n"
     ]
    }
   ],
   "source": [
    "\n",
    "# Convolution Neural Networks (CNN)\n",
    "model = Sequential()\n",
    "\n",
    "model.add(Conv2D(8, kernel_size=(3,3), padding='same', input_shape = (224,224,3)))\n",
    "model.add(Activation('relu'))\n",
    "model.add(MaxPool2D(pool_size=(3, 3)))\n",
    "\n",
    "model.add(Conv2D(16, kernel_size=(3,3), padding='same'))\n",
    "model.add(BatchNormalization())\n",
    "model.add(Activation('relu'))\n",
    "model.add(MaxPool2D(pool_size=(2, 2)))\n",
    "\n",
    "model.add(Conv2D(32, kernel_size=(3,3), padding='same'))\n",
    "model.add(BatchNormalization())\n",
    "model.add(Activation('relu'))\n",
    "model.add(MaxPool2D(pool_size=(2, 2)))\n",
    "\n",
    "model.add(Conv2D(32, kernel_size=(3,3), padding='same'))\n",
    "model.add(BatchNormalization())\n",
    "model.add(Activation('relu'))\n",
    "model.add(MaxPool2D(pool_size=(2, 2)))\n",
    "model.add(Flatten())\n",
    "model.add(Dense(1024, activation='relu'))\n",
    "model.add(Dropout(0.5))\n",
    "model.add(Dense(6, activation='softmax'))\n",
    "\n",
    "# Compile the model\n",
    "model.compile(loss=\"categorical_crossentropy\", # changed to categorical_crossentropy\n",
    "                optimizer=tensorflow.keras.optimizers.RMSprop(lr=1e-4),\n",
    "                metrics=[\"accuracy\"])\n",
    "\n",
    "# Fit the model\n",
    "history_1 = model.fit(train_data,\n",
    "                        epochs=10,\n",
    "                        steps_per_epoch=len(train_data),\n",
    "                        validation_data=valid_data,\n",
    "                        validation_steps=len(valid_data))"
   ]
  },
  {
   "cell_type": "code",
   "execution_count": 4,
   "id": "5737223c",
   "metadata": {
    "execution": {
     "iopub.execute_input": "2021-09-07T15:17:37.247567Z",
     "iopub.status.busy": "2021-09-07T15:17:37.239746Z",
     "iopub.status.idle": "2021-09-07T15:17:37.743718Z",
     "shell.execute_reply": "2021-09-07T15:17:37.744710Z",
     "shell.execute_reply.started": "2021-09-07T12:22:39.587381Z"
    },
    "papermill": {
     "duration": 0.890061,
     "end_time": "2021-09-07T15:17:37.744912",
     "exception": false,
     "start_time": "2021-09-07T15:17:36.854851",
     "status": "completed"
    },
    "tags": []
   },
   "outputs": [
    {
     "data": {
      "image/png": "[encoded data removed]",
      "text/plain": [
       "<Figure size 432x288 with 1 Axes>"
      ]
     },
     "metadata": {
      "needs_background": "light"
     },
     "output_type": "display_data"
    },
    {
     "data": {
      "image/png": "[encoded data removed]",
      "text/plain": [
       "<Figure size 432x288 with 1 Axes>"
      ]
     },
     "metadata": {
      "needs_background": "light"
     },
     "output_type": "display_data"
    }
   ],
   "source": [
    "# Plot the validation and training data separately\n",
    "def plot_loss_curves(history):\n",
    "  \"\"\"\n",
    "  Returns separate loss curves for training and validation metrics.\n",
    "  \"\"\" \n",
    "  loss = history.history['loss']\n",
    "  val_loss = history.history['val_loss']\n",
    "\n",
    "  accuracy = history.history['accuracy']\n",
    "  val_accuracy = history.history['val_accuracy']\n",
    "\n",
    "  epochs = range(len(history.history['loss']))\n",
    "\n",
    "  # Plot loss\n",
    "  plt.plot(epochs, loss, label='training_loss')\n",
    "  plt.plot(epochs, val_loss, label='val_loss')\n",
    "  plt.title('Loss')\n",
    "  plt.xlabel('Epochs')\n",
    "  plt.legend()\n",
    "\n",
    "  # Plot accuracy\n",
    "  plt.figure()\n",
    "  plt.plot(epochs, accuracy, label='training_accuracy')\n",
    "  plt.plot(epochs, val_accuracy, label='val_accuracy')\n",
    "  plt.title('Accuracy')\n",
    "  plt.xlabel('Epochs')\n",
    "  plt.legend();\n",
    "# Check out the model's loss curves on the 10 classes of data (note: this function comes from above in the notebook)\n",
    "plot_loss_curves(history_1)"
   ]
  },
  {
   "cell_type": "markdown",
   "id": "559bd807",
   "metadata": {
    "papermill": {
     "duration": 0.19217,
     "end_time": "2021-09-07T15:17:38.159902",
     "exception": false,
     "start_time": "2021-09-07T15:17:37.967732",
     "status": "completed"
    },
    "tags": []
   },
   "source": [
    "VGG16 is a convolutional neural network model proposed by K. ... Zisserman from the University of Oxford in the paper “Very Deep Convolutional Networks for Large-Scale Image Recognition”. The model achieves 92.7% top-5 test accuracy in ImageNet, which is a dataset of over 14 million images belonging to 1000 classes"
   ]
  },
  {
   "cell_type": "code",
   "execution_count": 5,
   "id": "2e794fda",
   "metadata": {
    "execution": {
     "iopub.execute_input": "2021-09-07T15:17:38.430554Z",
     "iopub.status.busy": "2021-09-07T15:17:38.429713Z",
     "iopub.status.idle": "2021-09-07T15:17:39.194296Z",
     "shell.execute_reply": "2021-09-07T15:17:39.193849Z",
     "shell.execute_reply.started": "2021-09-07T13:15:11.246491Z"
    },
    "papermill": {
     "duration": 0.905172,
     "end_time": "2021-09-07T15:17:39.194420",
     "exception": false,
     "start_time": "2021-09-07T15:17:38.289248",
     "status": "completed"
    },
    "tags": []
   },
   "outputs": [
    {
     "name": "stdout",
     "output_type": "stream",
     "text": [
      "Downloading data from https://storage.googleapis.com/tensorflow/keras-applications/vgg16/vgg16_weights_tf_dim_ordering_tf_kernels_notop.h5\n",
      "58892288/58889256 [==============================] - 0s 0us/step\n",
      "Model: \"sequential_1\"\n",
      "_________________________________________________________________\n",
      "Layer (type)                 Output Shape              Param #   \n",
      "=================================================================\n",
      "vgg16 (Functional)           (None, 7, 7, 512)         14714688  \n",
      "_________________________________________________________________\n",
      "flatten_1 (Flatten)          (None, 25088)             0         \n",
      "_________________________________________________________________\n",
      "dense_2 (Dense)              (None, 1024)              25691136  \n",
      "_________________________________________________________________\n",
      "dense_3 (Dense)              (None, 6)                 6150      \n",
      "=================================================================\n",
      "Total params: 40,411,974\n",
      "Trainable params: 32,776,710\n",
      "Non-trainable params: 7,635,264\n",
      "_________________________________________________________________\n"
     ]
    }
   ],
   "source": [
    "# I am using pretrained VGG16 network by skipping the last 4 layers\n",
    "batch_size = 32\n",
    "\n",
    "vgg16_model = tensorflow.keras.applications.vgg16.VGG16(weights='imagenet',include_top=False,input_tensor=Input(shape=(224,224,3)))\n",
    "for layer in vgg16_model.layers[:-4]:\n",
    "    layer.trainable = False\n",
    "# Create the model\n",
    "model2 = Sequential()\n",
    " \n",
    "# Add the vgg convolutional base model\n",
    "model2.add(vgg16_model)\n",
    " \n",
    "# Add new layers\n",
    "model2.add(Flatten())\n",
    "model2.add(Dense(1024, activation='relu'))\n",
    "model2.add(Dense(6, activation='softmax'))\n",
    " \n",
    "# Show a summary of the model. Check the number of trainable parameters\n",
    "model2.summary()\n"
   ]
  },
  {
   "cell_type": "code",
   "execution_count": 6,
   "id": "0c60407b",
   "metadata": {
    "execution": {
     "iopub.execute_input": "2021-09-07T15:17:39.471133Z",
     "iopub.status.busy": "2021-09-07T15:17:39.470264Z",
     "iopub.status.idle": "2021-09-07T15:26:57.738960Z",
     "shell.execute_reply": "2021-09-07T15:26:57.739642Z",
     "shell.execute_reply.started": "2021-09-07T13:15:20.147094Z"
    },
    "papermill": {
     "duration": 558.411817,
     "end_time": "2021-09-07T15:26:57.739863",
     "exception": false,
     "start_time": "2021-09-07T15:17:39.328046",
     "status": "completed"
    },
    "tags": []
   },
   "outputs": [
    {
     "name": "stdout",
     "output_type": "stream",
     "text": [
      "Epoch 1/15\n",
      "45/45 [==============================] - 40s 806ms/step - loss: 1.7772 - acc: 0.2468 - val_loss: 1.5277 - val_acc: 0.4187\n",
      "Epoch 2/15\n",
      "45/45 [==============================] - 36s 808ms/step - loss: 1.5123 - acc: 0.4168 - val_loss: 1.3340 - val_acc: 0.4854\n",
      "Epoch 3/15\n",
      "45/45 [==============================] - 37s 815ms/step - loss: 1.3593 - acc: 0.4617 - val_loss: 1.2797 - val_acc: 0.5083\n",
      "Epoch 4/15\n",
      "45/45 [==============================] - 38s 832ms/step - loss: 1.2425 - acc: 0.5302 - val_loss: 1.1827 - val_acc: 0.5562\n",
      "Epoch 5/15\n",
      "45/45 [==============================] - 37s 828ms/step - loss: 1.1963 - acc: 0.5579 - val_loss: 1.2379 - val_acc: 0.5354\n",
      "Epoch 6/15\n",
      "45/45 [==============================] - 37s 827ms/step - loss: 1.1109 - acc: 0.5764 - val_loss: 1.1580 - val_acc: 0.5688\n",
      "Epoch 7/15\n",
      "45/45 [==============================] - 37s 824ms/step - loss: 1.1145 - acc: 0.5804 - val_loss: 1.1517 - val_acc: 0.5771\n",
      "Epoch 8/15\n",
      "45/45 [==============================] - 37s 818ms/step - loss: 1.0588 - acc: 0.6095 - val_loss: 1.2051 - val_acc: 0.5646\n",
      "Epoch 9/15\n",
      "45/45 [==============================] - 38s 836ms/step - loss: 0.9886 - acc: 0.6650 - val_loss: 1.2596 - val_acc: 0.5375\n",
      "Epoch 10/15\n",
      "45/45 [==============================] - 37s 815ms/step - loss: 0.9739 - acc: 0.6296 - val_loss: 1.1206 - val_acc: 0.5979\n",
      "Epoch 11/15\n",
      "45/45 [==============================] - 36s 794ms/step - loss: 0.8999 - acc: 0.6755 - val_loss: 1.0960 - val_acc: 0.6250\n",
      "Epoch 12/15\n",
      "45/45 [==============================] - 36s 810ms/step - loss: 0.9042 - acc: 0.6705 - val_loss: 1.1191 - val_acc: 0.6042\n",
      "Epoch 13/15\n",
      "45/45 [==============================] - 39s 877ms/step - loss: 0.8506 - acc: 0.6950 - val_loss: 1.1387 - val_acc: 0.6000\n",
      "Epoch 14/15\n",
      "45/45 [==============================] - 37s 808ms/step - loss: 0.7984 - acc: 0.7128 - val_loss: 1.1209 - val_acc: 0.6083\n",
      "Epoch 15/15\n",
      "45/45 [==============================] - 36s 805ms/step - loss: 0.8355 - acc: 0.6908 - val_loss: 1.2335 - val_acc: 0.6000\n"
     ]
    }
   ],
   "source": [
    "model2.compile(loss='categorical_crossentropy',\n",
    "              optimizer=tensorflow.keras.optimizers.RMSprop(lr=1e-5),\n",
    "              metrics=['acc'])\n",
    "history = model2.fit(\n",
    "      train_data,\n",
    "      steps_per_epoch=train_data.samples/train_data.batch_size ,\n",
    "      epochs=15,\n",
    "      validation_data=valid_data,\n",
    "      validation_steps=valid_data.samples/valid_data.batch_size,\n",
    "      verbose=1)\n"
   ]
  },
  {
   "cell_type": "code",
   "execution_count": 7,
   "id": "eb492644",
   "metadata": {
    "execution": {
     "iopub.execute_input": "2021-09-07T15:26:58.389385Z",
     "iopub.status.busy": "2021-09-07T15:26:58.381634Z",
     "iopub.status.idle": "2021-09-07T15:26:58.693733Z",
     "shell.execute_reply": "2021-09-07T15:26:58.694154Z",
     "shell.execute_reply.started": "2021-09-07T13:12:12.655807Z"
    },
    "papermill": {
     "duration": 0.643307,
     "end_time": "2021-09-07T15:26:58.694338",
     "exception": false,
     "start_time": "2021-09-07T15:26:58.051031",
     "status": "completed"
    },
    "tags": []
   },
   "outputs": [
    {
     "data": {
      "image/png": "[encoded data removed]",
      "text/plain": [
       "<Figure size 432x288 with 1 Axes>"
      ]
     },
     "metadata": {
      "needs_background": "light"
     },
     "output_type": "display_data"
    },
    {
     "data": {
      "image/png": "[encoded data removed]",
      "text/plain": [
       "<Figure size 432x288 with 1 Axes>"
      ]
     },
     "metadata": {
      "needs_background": "light"
     },
     "output_type": "display_data"
    }
   ],
   "source": [
    "def plot_loss_curves(history):\n",
    "  \"\"\"\n",
    "  Returns separate loss curves for training and validation metrics.\n",
    "  \"\"\" \n",
    "  loss = history.history['loss']\n",
    "  val_loss = history.history['val_loss']\n",
    "\n",
    "  accuracy = history.history['acc']\n",
    "  val_accuracy = history.history['val_acc']\n",
    "\n",
    "  epochs = range(len(history.history['loss']))\n",
    "\n",
    "  # Plot loss\n",
    "  plt.plot(epochs, loss, label='training_loss')\n",
    "  plt.plot(epochs, val_loss, label='val_loss')\n",
    "  plt.title('Loss')\n",
    "  plt.xlabel('Epochs')\n",
    "  plt.legend()\n",
    "\n",
    "  # Plot accuracy\n",
    "  plt.figure()\n",
    "  plt.plot(epochs, accuracy, label='training_accuracy')\n",
    "  plt.plot(epochs, val_accuracy, label='val_accuracy')\n",
    "  plt.title('Accuracy')\n",
    "  plt.xlabel('Epochs')\n",
    "  plt.legend();\n",
    "plot_loss_curves(history)"
   ]
  },
  {
   "cell_type": "code",
   "execution_count": 8,
   "id": "72ccea43",
   "metadata": {
    "execution": {
     "iopub.execute_input": "2021-09-07T15:26:59.327611Z",
     "iopub.status.busy": "2021-09-07T15:26:59.326120Z",
     "iopub.status.idle": "2021-09-07T15:27:14.779142Z",
     "shell.execute_reply": "2021-09-07T15:27:14.779561Z",
     "shell.execute_reply.started": "2021-09-07T13:14:00.209294Z"
    },
    "papermill": {
     "duration": 15.774848,
     "end_time": "2021-09-07T15:27:14.779713",
     "exception": false,
     "start_time": "2021-09-07T15:26:59.004865",
     "status": "completed"
    },
    "tags": []
   },
   "outputs": [
    {
     "name": "stdout",
     "output_type": "stream",
     "text": [
      "                  filenames    classes\n",
      "0    Testing/2015_00401.jpg     People\n",
      "1    Testing/2015_00402.jpg      Table\n",
      "2    Testing/2015_00403.jpg     People\n",
      "3    Testing/2015_00404.jpg      Table\n",
      "4    Testing/2015_00405.jpg     People\n",
      "5    Testing/2015_00406.jpg      Table\n",
      "6    Testing/2015_00407.jpg  Motorbike\n",
      "7    Testing/2015_00408.jpg     People\n",
      "8    Testing/2015_00409.jpg    Bicycle\n",
      "9    Testing/2015_00410.jpg      Table\n",
      "10   Testing/2015_00411.jpg    Bicycle\n",
      "11   Testing/2015_00412.jpg    Bicycle\n",
      "12   Testing/2015_00413.jpg      Table\n",
      "13   Testing/2015_00414.jpg        Cat\n",
      "14   Testing/2015_00415.jpg  Motorbike\n",
      "15   Testing/2015_00416.jpg       Boat\n",
      "16   Testing/2015_00417.jpg      Table\n",
      "17   Testing/2015_00418.jpg      Table\n",
      "18   Testing/2015_00419.jpg     People\n",
      "19   Testing/2015_00420.jpg        Cat\n",
      "20   Testing/2015_00421.jpg        Cat\n",
      "21   Testing/2015_00422.jpg     People\n",
      "22   Testing/2015_00423.jpg    Bicycle\n",
      "23   Testing/2015_00424.jpg  Motorbike\n",
      "24   Testing/2015_00425.jpg       Boat\n",
      "25   Testing/2015_00426.jpg        Cat\n",
      "26   Testing/2015_00427.jpg     People\n",
      "27   Testing/2015_00428.jpg      Table\n",
      "28   Testing/2015_00429.jpg        Cat\n",
      "29   Testing/2015_00430.jpg        Cat\n",
      "30   Testing/2015_00431.jpg     People\n",
      "31   Testing/2015_00432.jpg    Bicycle\n",
      "32   Testing/2015_00433.jpg      Table\n",
      "33   Testing/2015_00434.jpg    Bicycle\n",
      "34   Testing/2015_00435.jpg        Cat\n",
      "35  Testing/2015_00436.JPEG       Boat\n",
      "36  Testing/2015_00437.JPEG     People\n",
      "37  Testing/2015_00438.JPEG        Cat\n",
      "38  Testing/2015_00439.JPEG      Table\n",
      "39  Testing/2015_00440.JPEG    Bicycle\n",
      "40  Testing/2015_00441.JPEG     People\n",
      "41  Testing/2015_00442.JPEG      Table\n",
      "42  Testing/2015_00443.JPEG       Boat\n",
      "43   Testing/2015_00444.jpg        Cat\n",
      "44  Testing/2015_00445.JPEG    Bicycle\n",
      "45   Testing/2015_00446.jpg      Table\n",
      "46   Testing/2015_00447.jpg  Motorbike\n",
      "47   Testing/2015_00448.jpg    Bicycle\n",
      "48   Testing/2015_00449.JPG       Boat\n",
      "49   Testing/2015_00450.jpg  Motorbike\n"
     ]
    }
   ],
   "source": [
    "#Label the prediction as classes\n",
    "import keras\n",
    "import pandas as pd\n",
    "predictions = model2.predict(test_data)\n",
    "y_classes =list(np.argmax(predictions,axis=1))\n",
    "\n",
    "def to_label(value):\n",
    "    if value == 0:\n",
    "        return 'Bicycle'\n",
    "    elif value == 1:\n",
    "        return 'Boat'\n",
    "    elif value == 2:\n",
    "        return 'Cat'\n",
    "    elif value == 3:\n",
    "        return 'Motorbike'\n",
    "    elif value == 4:\n",
    "        return 'People'\n",
    "    else:\n",
    "        return 'Table'\n",
    "    \n",
    "filenames = test_data.filenames\n",
    "filenames\n",
    "df = pd.DataFrame()\n",
    "df['filenames'] = filenames\n",
    "#df['pred_prob'] = predictions\n",
    "df['classno'] = y_classes\n",
    "df['classes']=df['classno'].map(lambda x: to_label(x))\n",
    "df2 = df[['filenames','classes']]\n",
    "print(df2.head(50))\n",
    "df2.to_csv('/kaggle/working/test_data_prediction.csv',index=False)\n"
   ]
  },
  {
   "cell_type": "code",
   "execution_count": 9,
   "id": "660c6281",
   "metadata": {
    "execution": {
     "iopub.execute_input": "2021-09-07T15:27:15.672525Z",
     "iopub.status.busy": "2021-09-07T15:27:15.671833Z",
     "iopub.status.idle": "2021-09-07T15:27:15.674893Z",
     "shell.execute_reply": "2021-09-07T15:27:15.675493Z",
     "shell.execute_reply.started": "2021-09-07T11:17:23.374673Z"
    },
    "papermill": {
     "duration": 0.572799,
     "end_time": "2021-09-07T15:27:15.675671",
     "exception": false,
     "start_time": "2021-09-07T15:27:15.102872",
     "status": "completed"
    },
    "tags": []
   },
   "outputs": [
    {
     "name": "stdout",
     "output_type": "stream",
     "text": [
      "Execution Time: 15.922121000289916 minutes\n"
     ]
    }
   ],
   "source": [
    "#Calculate execution time\n",
    "end = time.time()\n",
    "dur = end-start\n",
    "\n",
    "if dur<60:\n",
    "    print(\"Execution Time:\",dur,\"seconds\")\n",
    "elif dur>60 and dur<3600:\n",
    "    dur=dur/60\n",
    "    print(\"Execution Time:\",dur,\"minutes\")\n",
    "else:\n",
    "    dur=dur/(60*60)\n",
    "    print(\"Execution Time:\",dur,\"hours\")"
   ]
  }
 ],
 "metadata": {
  "kernelspec": {
   "display_name": "Python 3",
   "language": "python",
   "name": "python3"
  },
  "language_info": {
   "codemirror_mode": {
    "name": "ipython",
    "version": 3
   },
   "file_extension": ".py",
   "mimetype": "text/x-python",
   "name": "python",
   "nbconvert_exporter": "python",
   "pygments_lexer": "ipython3",
   "version": "3.7.10"
  },
  "papermill": {
   "default_parameters": {},
   "duration": 969.986184,
   "end_time": "2021-09-07T15:27:18.907134",
   "environment_variables": {},
   "exception": null,
   "input_path": "__notebook__.ipynb",
   "output_path": "__notebook__.ipynb",
   "parameters": {},
   "start_time": "2021-09-07T15:11:08.920950",
   "version": "2.3.3"
  }
 },
 "nbformat": 4,
 "nbformat_minor": 5
}
